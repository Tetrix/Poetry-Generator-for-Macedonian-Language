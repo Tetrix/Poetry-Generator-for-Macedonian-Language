{
 "cells": [
  {
   "cell_type": "code",
   "execution_count": 1,
   "metadata": {},
   "outputs": [],
   "source": [
    "import re\n",
    "import matplotlib.pyplot as plt\n",
    "import numpy as np\n",
    "import torch\n",
    "from torch import nn\n",
    "import torch.nn.functional as F"
   ]
  },
  {
   "cell_type": "code",
   "execution_count": 2,
   "metadata": {},
   "outputs": [
    {
     "name": "stdout",
     "output_type": "stream",
     "text": [
      "cuda:0\n"
     ]
    }
   ],
   "source": [
    "if torch.cuda.is_available():\n",
    "    device = torch.device('cuda:0')\n",
    "else:\n",
    "    device = torch.device('cpu')\n",
    "print(device)"
   ]
  },
  {
   "cell_type": "code",
   "execution_count": 3,
   "metadata": {},
   "outputs": [],
   "source": [
    "with open('data/data.txt', 'r') as f:\n",
    "    text = f.read()"
   ]
  },
  {
   "cell_type": "code",
   "execution_count": 4,
   "metadata": {},
   "outputs": [],
   "source": [
    "chars = tuple(set(text))\n",
    "int2char = dict(enumerate(chars))\n",
    "char2int = {ch: ii for ii, ch in int2char.items()}\n",
    "\n",
    "encoded = np.array([char2int[ch] for ch in text])"
   ]
  },
  {
   "cell_type": "code",
   "execution_count": 5,
   "metadata": {},
   "outputs": [],
   "source": [
    "def one_hot_encoder(arr, n_labels):\n",
    "    one_hot = np.zeros((np.multiply(*arr.shape), n_labels), dtype=np.float32)\n",
    "    one_hot[np.arange(one_hot.shape[0]), arr.flatten()] = 1.\n",
    "    one_hot = one_hot.reshape((*arr.shape, n_labels))\n",
    "    \n",
    "    return one_hot"
   ]
  },
  {
   "cell_type": "code",
   "execution_count": 6,
   "metadata": {},
   "outputs": [],
   "source": [
    "class RNN(nn.Module):  \n",
    "    def __init__(self, tokens, hidden_size, n_layers, dropout_prob):\n",
    "        super().__init__()\n",
    "        self.dropout_prob = dropout_prob\n",
    "        self.n_layers = n_layers\n",
    "        self.hidden_size = hidden_size\n",
    "        \n",
    "        self.chars = tokens\n",
    "        self.int2char = dict(enumerate(self.chars))\n",
    "        self.char2int = {ch: ii for ii, ch in self.int2char.items()}\n",
    "        \n",
    "        self.lstm = nn.LSTM(len(self.chars), \n",
    "                            self.hidden_size, \n",
    "                            n_layers, \n",
    "                            dropout=dropout_prob,\n",
    "                            bidirectional=False,\n",
    "                            batch_first=True\n",
    "                           )\n",
    "        \n",
    "        self.dropout = nn.Dropout(dropout_prob)\n",
    "        self.lin = nn.Linear(self.hidden_size, len(self.chars))\n",
    "        \n",
    "    def forward(self, x, hidden):\n",
    "        r_output, hidden = self.lstm(x, hidden)\n",
    "        out = self.dropout(r_output)\n",
    "        out = out.contiguous().view(-1, self.hidden_size)\n",
    "        out = self.lin(out)\n",
    "        return out, hidden\n",
    "        \n",
    "\n",
    "    def init_hidden(self, batch_size=1, device=device):\n",
    "        return (torch.zeros(self.n_layers, batch_size, self.hidden_size, device=device), \n",
    "                torch.zeros(self.n_layers, batch_size, self.hidden_size, device=device))"
   ]
  },
  {
   "cell_type": "code",
   "execution_count": 7,
   "metadata": {},
   "outputs": [],
   "source": [
    "def get_batches(arr, batch_size, seq_length):\n",
    "    batch_size_total = batch_size * seq_length\n",
    "    n_batches = len(arr)//batch_size_total\n",
    "    arr = arr[:n_batches * batch_size_total]\n",
    "    arr = arr.reshape((batch_size, -1))\n",
    "    \n",
    "    for n in range(0, arr.shape[1], seq_length):\n",
    "        x = arr[:, n:n+seq_length]\n",
    "        y = np.zeros_like(x)\n",
    "        try:\n",
    "            y[:, :-1], y[:, -1] = x[:, 1:], arr[:, n+seq_length]\n",
    "        except IndexError:\n",
    "            \"Wrong index\"\n",
    "        yield x, y"
   ]
  },
  {
   "cell_type": "code",
   "execution_count": 19,
   "metadata": {},
   "outputs": [],
   "source": [
    "def train(model, data, epochs, batch_size, seq_length, lr, criterion, optimizer, val_frac, print_every):\n",
    "    train_loss = []\n",
    "    validation_loss = []\n",
    "    epoch_viz = []\n",
    "    \n",
    "    val_idx = int(len(data) * (1 - val_frac))\n",
    "    data, val_data = data[:val_idx], data[val_idx:]\n",
    "\n",
    "    counter = 0\n",
    "    n_chars = len(model.chars)\n",
    "    for epoch in range(epochs):\n",
    "        hidden = model.init_hidden(batch_size)      \n",
    "        for x, y in get_batches(data, batch_size, seq_length):\n",
    "            counter += 1\n",
    "\n",
    "            x = one_hot_encoder(x, n_chars)\n",
    "            \n",
    "            inputs, targets = torch.from_numpy(x), torch.from_numpy(y)\n",
    "            inputs, targets = inputs.to(device), targets.to(device)\n",
    "            hidden = tuple([each.data for each in hidden])\n",
    "            \n",
    "            model.zero_grad()\n",
    "            \n",
    "            output, hidden = model(inputs, hidden)\n",
    "                    \n",
    "            loss = criterion(output, targets.view(batch_size * seq_length).long())\n",
    "            loss.backward()\n",
    "\n",
    "            optimizer.step()\n",
    "            \n",
    "            # validation\n",
    "            if counter % print_every == 0:\n",
    "                val_hidden = model.init_hidden(batch_size)\n",
    "                val_losses = []\n",
    "                model.eval()\n",
    "                for x, y in get_batches(val_data, batch_size, seq_length):\n",
    "                    x = one_hot_encoder(x, n_chars)\n",
    "                    x, y = torch.from_numpy(x), torch.from_numpy(y)\n",
    "                    val_hidden = tuple([each.data for each in val_hidden])\n",
    "                    \n",
    "                    inputs, targets = x, y\n",
    "                    inputs, targets = inputs.to(device), targets.to(device)\n",
    "\n",
    "                    output, val_hidden = model(inputs, val_hidden)\n",
    "                    val_loss = criterion(output, targets.view(batch_size * seq_length).long())\n",
    "                \n",
    "                    val_losses.append(val_loss.item())\n",
    "                \n",
    "                model.train()\n",
    "                \n",
    "                print(\"Epoch: {}/{}...\".format(epoch + 1, epochs),\n",
    "                      \"Step: {}...\".format(counter),\n",
    "                      \"Loss: {:.4f}...\".format(loss.item()),\n",
    "                      \"Val Loss: {:.4f}\".format(np.mean(val_losses)))\n",
    "                \n",
    "                train_loss.append(loss.item())\n",
    "                validation_loss.append(np.mean(val_losses))\n",
    "                epoch_viz.append(epoch+1)\n",
    "    return train_loss, validation_loss, epoch_viz"
   ]
  },
  {
   "cell_type": "code",
   "execution_count": 22,
   "metadata": {},
   "outputs": [
    {
     "data": {
      "text/plain": [
       "RNN(\n",
       "  (lstm): LSTM(186, 768, num_layers=3, batch_first=True, dropout=0.5)\n",
       "  (dropout): Dropout(p=0.5)\n",
       "  (lin): Linear(in_features=768, out_features=186, bias=True)\n",
       ")"
      ]
     },
     "execution_count": 22,
     "metadata": {},
     "output_type": "execute_result"
    }
   ],
   "source": [
    "hidden_size = 768\n",
    "n_layers = 3\n",
    "dropout_prob = 0.5\n",
    "\n",
    "model = RNN(tokens=chars, hidden_size=hidden_size, n_layers=n_layers, dropout_prob=dropout_prob).to(device)\n",
    "model.train()"
   ]
  },
  {
   "cell_type": "code",
   "execution_count": 23,
   "metadata": {},
   "outputs": [],
   "source": [
    "lr = 0.001\n",
    "optimizer = torch.optim.Adam(model.parameters(), lr=lr, amsgrad=True)\n",
    "criterion = nn.CrossEntropyLoss()"
   ]
  },
  {
   "cell_type": "code",
   "execution_count": 24,
   "metadata": {},
   "outputs": [
    {
     "data": {
      "text/plain": [
       "RNN(\n",
       "  (lstm): LSTM(186, 768, num_layers=3, batch_first=True, dropout=0.5)\n",
       "  (dropout): Dropout(p=0.5)\n",
       "  (lin): Linear(in_features=768, out_features=186, bias=True)\n",
       ")"
      ]
     },
     "execution_count": 24,
     "metadata": {},
     "output_type": "execute_result"
    }
   ],
   "source": [
    "# train the model\n",
    "batch_size = 64\n",
    "seq_length = 150\n",
    "n_epochs = 40\n",
    "print_every = 100\n",
    "val_frac = 0.1\n",
    "model.train()"
   ]
  },
  {
   "cell_type": "code",
   "execution_count": 25,
   "metadata": {},
   "outputs": [],
   "source": [
    "skip_training = False"
   ]
  },
  {
   "cell_type": "code",
   "execution_count": 26,
   "metadata": {},
   "outputs": [
    {
     "name": "stdout",
     "output_type": "stream",
     "text": [
      "Epoch: 1/40... Step: 100... Loss: 3.1614... Val Loss: 3.2643\n",
      "Epoch: 1/40... Step: 200... Loss: 2.9635... Val Loss: 3.0037\n",
      "Epoch: 2/40... Step: 300... Loss: 2.7317... Val Loss: 2.8307\n",
      "Epoch: 2/40... Step: 400... Loss: 2.5570... Val Loss: 2.6984\n",
      "Epoch: 3/40... Step: 500... Loss: 2.5022... Val Loss: 2.5130\n",
      "Epoch: 3/40... Step: 600... Loss: 2.3395... Val Loss: 2.4913\n",
      "Epoch: 3/40... Step: 700... Loss: 2.2301... Val Loss: 2.4104\n",
      "Epoch: 4/40... Step: 800... Loss: 2.2234... Val Loss: 2.2718\n",
      "Epoch: 4/40... Step: 900... Loss: 2.0823... Val Loss: 2.2065\n",
      "Epoch: 5/40... Step: 1000... Loss: 2.0578... Val Loss: 2.0684\n",
      "Epoch: 5/40... Step: 1100... Loss: 1.9721... Val Loss: 2.0513\n",
      "Epoch: 5/40... Step: 1200... Loss: 1.9415... Val Loss: 2.0116\n",
      "Epoch: 6/40... Step: 1300... Loss: 1.8968... Val Loss: 1.9481\n",
      "Epoch: 6/40... Step: 1400... Loss: 1.8657... Val Loss: 1.9428\n",
      "Epoch: 7/40... Step: 1500... Loss: 1.8218... Val Loss: 1.8793\n",
      "Epoch: 7/40... Step: 1600... Loss: 1.8342... Val Loss: 1.8858\n",
      "Epoch: 8/40... Step: 1700... Loss: 1.7952... Val Loss: 1.8245\n",
      "Epoch: 8/40... Step: 1800... Loss: 1.7231... Val Loss: 1.8428\n",
      "Epoch: 8/40... Step: 1900... Loss: 1.6974... Val Loss: 1.8496\n",
      "Epoch: 9/40... Step: 2000... Loss: 1.7848... Val Loss: 1.8028\n",
      "Epoch: 9/40... Step: 2100... Loss: 1.6780... Val Loss: 1.8150\n",
      "Epoch: 10/40... Step: 2200... Loss: 1.7029... Val Loss: 1.7651\n",
      "Epoch: 10/40... Step: 2300... Loss: 1.6799... Val Loss: 1.7843\n",
      "Epoch: 10/40... Step: 2400... Loss: 1.7561... Val Loss: 1.7922\n",
      "Epoch: 11/40... Step: 2500... Loss: 1.6521... Val Loss: 1.7586\n",
      "Epoch: 11/40... Step: 2600... Loss: 1.6252... Val Loss: 1.7715\n",
      "Epoch: 12/40... Step: 2700... Loss: 1.6464... Val Loss: 1.7277\n",
      "Epoch: 12/40... Step: 2800... Loss: 1.6682... Val Loss: 1.7489\n",
      "Epoch: 13/40... Step: 2900... Loss: 1.6366... Val Loss: 1.7087\n",
      "Epoch: 13/40... Step: 3000... Loss: 1.5997... Val Loss: 1.7278\n",
      "Epoch: 13/40... Step: 3100... Loss: 1.6171... Val Loss: 1.7442\n",
      "Epoch: 14/40... Step: 3200... Loss: 1.6194... Val Loss: 1.7014\n",
      "Epoch: 14/40... Step: 3300... Loss: 1.5446... Val Loss: 1.7207\n",
      "Epoch: 15/40... Step: 3400... Loss: 1.6058... Val Loss: 1.6785\n",
      "Epoch: 15/40... Step: 3500... Loss: 1.5646... Val Loss: 1.7033\n",
      "Epoch: 15/40... Step: 3600... Loss: 1.5429... Val Loss: 1.7161\n",
      "Epoch: 16/40... Step: 3700... Loss: 1.5760... Val Loss: 1.6894\n",
      "Epoch: 16/40... Step: 3800... Loss: 1.5462... Val Loss: 1.7078\n",
      "Epoch: 17/40... Step: 3900... Loss: 1.5397... Val Loss: 1.6644\n",
      "Epoch: 17/40... Step: 4000... Loss: 1.5739... Val Loss: 1.6895\n",
      "Epoch: 18/40... Step: 4100... Loss: 1.6080... Val Loss: 1.6834\n",
      "Epoch: 18/40... Step: 4200... Loss: 1.5330... Val Loss: 1.6726\n",
      "Epoch: 18/40... Step: 4300... Loss: 1.5097... Val Loss: 1.6921\n",
      "Epoch: 19/40... Step: 4400... Loss: 1.5507... Val Loss: 1.6567\n",
      "Epoch: 19/40... Step: 4500... Loss: 1.5282... Val Loss: 1.6738\n",
      "Epoch: 20/40... Step: 4600... Loss: 1.5329... Val Loss: 1.6392\n",
      "Epoch: 20/40... Step: 4700... Loss: 1.4581... Val Loss: 1.6649\n",
      "Epoch: 20/40... Step: 4800... Loss: 1.5232... Val Loss: 1.6797\n",
      "Epoch: 21/40... Step: 4900... Loss: 1.5177... Val Loss: 1.6498\n",
      "Epoch: 21/40... Step: 5000... Loss: 1.4665... Val Loss: 1.6714\n",
      "Epoch: 22/40... Step: 5100... Loss: 1.5396... Val Loss: 1.6309\n",
      "Epoch: 22/40... Step: 5200... Loss: 1.4617... Val Loss: 1.6570\n",
      "Epoch: 22/40... Step: 5300... Loss: 1.4806... Val Loss: 1.6633\n",
      "Epoch: 23/40... Step: 5400... Loss: 1.5164... Val Loss: 1.6450\n",
      "Epoch: 23/40... Step: 5500... Loss: 1.4601... Val Loss: 1.6619\n",
      "Epoch: 24/40... Step: 5600... Loss: 1.5266... Val Loss: 1.6296\n",
      "Epoch: 24/40... Step: 5700... Loss: 1.5071... Val Loss: 1.6496\n",
      "Epoch: 25/40... Step: 5800... Loss: 1.4720... Val Loss: 1.6169\n",
      "Epoch: 25/40... Step: 5900... Loss: 1.4059... Val Loss: 1.6423\n",
      "Epoch: 25/40... Step: 6000... Loss: 1.4340... Val Loss: 1.6601\n",
      "Epoch: 26/40... Step: 6100... Loss: 1.4943... Val Loss: 1.6294\n",
      "Epoch: 26/40... Step: 6200... Loss: 1.3859... Val Loss: 1.6499\n",
      "Epoch: 27/40... Step: 6300... Loss: 1.4324... Val Loss: 1.6189\n",
      "Epoch: 27/40... Step: 6400... Loss: 1.4247... Val Loss: 1.6398\n",
      "Epoch: 27/40... Step: 6500... Loss: 1.4930... Val Loss: 1.6484\n",
      "Epoch: 28/40... Step: 6600... Loss: 1.4607... Val Loss: 1.6336\n",
      "Epoch: 28/40... Step: 6700... Loss: 1.4445... Val Loss: 1.6482\n",
      "Epoch: 29/40... Step: 6800... Loss: 1.4423... Val Loss: 1.6190\n",
      "Epoch: 29/40... Step: 6900... Loss: 1.4749... Val Loss: 1.6400\n",
      "Epoch: 30/40... Step: 7000... Loss: 1.4382... Val Loss: 1.6041\n",
      "Epoch: 30/40... Step: 7100... Loss: 1.3783... Val Loss: 1.6315\n",
      "Epoch: 30/40... Step: 7200... Loss: 1.4056... Val Loss: 1.6473\n",
      "Epoch: 31/40... Step: 7300... Loss: 1.3950... Val Loss: 1.6221\n",
      "Epoch: 31/40... Step: 7400... Loss: 1.3399... Val Loss: 1.6356\n",
      "Epoch: 32/40... Step: 7500... Loss: 1.4176... Val Loss: 1.6075\n",
      "Epoch: 32/40... Step: 7600... Loss: 1.4175... Val Loss: 1.6412\n",
      "Epoch: 32/40... Step: 7700... Loss: 1.3948... Val Loss: 1.6438\n",
      "Epoch: 33/40... Step: 7800... Loss: 1.3722... Val Loss: 1.6238\n",
      "Epoch: 33/40... Step: 7900... Loss: 1.3950... Val Loss: 1.6397\n",
      "Epoch: 34/40... Step: 8000... Loss: 1.3967... Val Loss: 1.6135\n",
      "Epoch: 34/40... Step: 8100... Loss: 1.4549... Val Loss: 1.6337\n",
      "Epoch: 35/40... Step: 8200... Loss: 1.4765... Val Loss: 1.6114\n",
      "Epoch: 35/40... Step: 8300... Loss: 1.3647... Val Loss: 1.6315\n",
      "Epoch: 35/40... Step: 8400... Loss: 1.4008... Val Loss: 1.6420\n",
      "Epoch: 36/40... Step: 8500... Loss: 1.4233... Val Loss: 1.6170\n",
      "Epoch: 36/40... Step: 8600... Loss: 1.3533... Val Loss: 1.6358\n",
      "Epoch: 37/40... Step: 8700... Loss: 1.4015... Val Loss: 1.6202\n",
      "Epoch: 37/40... Step: 8800... Loss: 1.3743... Val Loss: 1.6352\n",
      "Epoch: 37/40... Step: 8900... Loss: 1.4150... Val Loss: 1.6415\n",
      "Epoch: 38/40... Step: 9000... Loss: 1.3786... Val Loss: 1.6328\n",
      "Epoch: 38/40... Step: 9100... Loss: 1.3603... Val Loss: 1.6482\n",
      "Epoch: 39/40... Step: 9200... Loss: 1.3852... Val Loss: 1.6346\n",
      "Epoch: 39/40... Step: 9300... Loss: 1.3786... Val Loss: 1.6398\n",
      "Epoch: 40/40... Step: 9400... Loss: 1.4118... Val Loss: 1.6254\n",
      "Epoch: 40/40... Step: 9500... Loss: 1.3267... Val Loss: 1.6362\n",
      "Epoch: 40/40... Step: 9600... Loss: 1.3240... Val Loss: 1.6501\n"
     ]
    }
   ],
   "source": [
    "if skip_training == False:\n",
    "    train_loss, validation_loss, epoch_viz = train(model=model, \n",
    "                                                  data=encoded, \n",
    "                                                  epochs=n_epochs, \n",
    "                                                  batch_size=batch_size, \n",
    "                                                  seq_length=seq_length, \n",
    "                                                  lr=lr, \n",
    "                                                  criterion=criterion, \n",
    "                                                  optimizer=optimizer, \n",
    "                                                  print_every=print_every, \n",
    "                                                  val_frac=val_frac,\n",
    "                                                 )"
   ]
  },
  {
   "cell_type": "code",
   "execution_count": 27,
   "metadata": {},
   "outputs": [
    {
     "name": "stderr",
     "output_type": "stream",
     "text": [
      "/u/15/porjazd1/unix/.local/lib/python3.7/site-packages/torch/serialization.py:256: UserWarning: Couldn't retrieve source code for container of type RNN. It won't be checked for correctness upon loading.\n",
      "  \"type \" + obj.__name__ + \". It won't be checked \"\n"
     ]
    }
   ],
   "source": [
    "if skip_training == False:\n",
    "    torch.save(model, 'model')\n",
    "else:\n",
    "    model = torch.load('model')\n",
    "    model.eval()"
   ]
  },
  {
   "cell_type": "code",
   "execution_count": 28,
   "metadata": {},
   "outputs": [
    {
     "data": {
      "image/png": "[encoded data removed]",
      "text/plain": [
       "<Figure size 432x288 with 1 Axes>"
      ]
     },
     "metadata": {
      "needs_background": "light"
     },
     "output_type": "display_data"
    }
   ],
   "source": [
    "if skip_training == False:\n",
    "    plt.plot(epoch_viz, train_loss)\n",
    "    plt.plot(epoch_viz, validation_loss)\n",
    "    plt.legend(['train_loss', 'validation_loss'])\n",
    "    plt.xlabel('epoch')\n",
    "    plt.ylabel('loss')\n",
    "    plt.title('Training Loss')\n",
    "    plt.savefig('images/loss.png', dpi=400)\n",
    "    plt.show()"
   ]
  },
  {
   "cell_type": "code",
   "execution_count": 29,
   "metadata": {},
   "outputs": [],
   "source": [
    "# Defining a method to generate the next character\n",
    "def predict(model, char, hidden=None, top_k=None):\n",
    "        ''' Given a character, predict the next character.\n",
    "            Returns the predicted character and the hidden state.\n",
    "        '''\n",
    "        \n",
    "        # tensor inputs\n",
    "        x = np.array([[model.char2int[char]]])\n",
    "        x = one_hot_encoder(x, len(model.chars))\n",
    "        \n",
    "        inputs = torch.from_numpy(x)\n",
    "        inputs = inputs.to(device)\n",
    "        \n",
    "        hidden = tuple([each.data for each in hidden])\n",
    "        output, hidden = model(inputs, hidden)\n",
    "\n",
    "        p = F.softmax(output, dim=1).data\n",
    "        p = p.cpu()\n",
    "        \n",
    "        if top_k is None:\n",
    "            top_ch = np.arange(len(model.chars))\n",
    "        else:\n",
    "            p, top_ch = p.topk(top_k)\n",
    "            top_ch = top_ch.numpy().squeeze()\n",
    "        \n",
    "        p = p.numpy().squeeze()\n",
    "        char = np.random.choice(top_ch, p=p / p.sum())\n",
    "        return model.int2char[char], hidden"
   ]
  },
  {
   "cell_type": "code",
   "execution_count": 30,
   "metadata": {},
   "outputs": [],
   "source": [
    "def sample(model, size, prime, top_k=None):\n",
    "    model.to(device)   \n",
    "    model.eval()\n",
    "    chars = [ch for ch in prime]\n",
    "    hidden = model.init_hidden(1)\n",
    "    for ch in prime:\n",
    "        char, hidden = predict(model, ch, hidden, top_k=top_k)\n",
    "\n",
    "    chars.append(char)\n",
    "\n",
    "    for ii in range(size):\n",
    "        char, hidden = predict(model, chars[-1], hidden, top_k=top_k)\n",
    "        chars.append(char)\n",
    "    \n",
    "    text = ''.join(chars)\n",
    "    return text"
   ]
  },
  {
   "cell_type": "code",
   "execution_count": 38,
   "metadata": {},
   "outputs": [],
   "source": [
    "text = sample(model, 1000, prime=' ', top_k=5)"
   ]
  },
  {
   "cell_type": "code",
   "execution_count": 39,
   "metadata": {},
   "outputs": [],
   "source": [
    "# remove punctuation\n",
    "def remove_punctuation(text):\n",
    "    words_clean = []\n",
    "    for word in text.split():\n",
    "        words_clean.append(re.sub(r'[^\\w\\s]', '', word))\n",
    "    return words_clean"
   ]
  },
  {
   "cell_type": "code",
   "execution_count": 40,
   "metadata": {},
   "outputs": [],
   "source": [
    "clean_text = remove_punctuation(text)"
   ]
  },
  {
   "cell_type": "code",
   "execution_count": 41,
   "metadata": {},
   "outputs": [],
   "source": [
    "def evaluate(clean_text):\n",
    "    correct_words = 0\n",
    "    incorrect_words = 0\n",
    "    \n",
    "    with open('data/unique_words.txt', 'r') as f:\n",
    "        vocab = f.read().splitlines()\n",
    "        \n",
    "    for word in clean_text:\n",
    "        if word in vocab:\n",
    "            correct_words += 1\n",
    "        else:\n",
    "            incorrect_words += 1\n",
    "    \n",
    "    accuracy = correct_words / (correct_words + incorrect_words)\n",
    "    return accuracy, correct_words, incorrect_words"
   ]
  },
  {
   "cell_type": "code",
   "execution_count": 42,
   "metadata": {},
   "outputs": [],
   "source": [
    "accuracy, correct_words, incorrect_words = evaluate(clean_text)"
   ]
  },
  {
   "cell_type": "code",
   "execution_count": 43,
   "metadata": {},
   "outputs": [
    {
     "name": "stdout",
     "output_type": "stream",
     "text": [
      "Number of correct words is: 187, number of incorrect words is 6, accuracy is: 0.9689119170984456\n"
     ]
    }
   ],
   "source": [
    "print('Number of correct words is: {}, number of incorrect words is {}, accuracy is: {}'.format(correct_words, incorrect_words, accuracy))"
   ]
  },
  {
   "cell_type": "code",
   "execution_count": 44,
   "metadata": {
    "scrolled": false
   },
   "outputs": [
    {
     "name": "stdout",
     "output_type": "stream",
     "text": [
      " полетај го просторот. \n",
      "И те зема со мене на тебе,\n",
      "каде е мојата средба. \n",
      "Стоевме за тебе не сме по него\n",
      "и носат секилности, \n",
      "се невини, некои да ми се споредуваат.\n",
      "\n",
      "Како проклети сончеви погледи непривезени\n",
      "оваа коска на нив да се однесеме,\n",
      "а јас не се сеќавам на себе\n",
      "\n",
      "Толку пријатно небо,\n",
      "по небото светлина,\n",
      "пред свилена светлина,\n",
      "вечна наша верби и треперливи изгрејсонца\n",
      "сега веќе не е важно\n",
      "кога сум само толку далечно\n",
      "и да се потплетам во темнината.\n",
      "\n",
      "Не ми спие, туку сум и не знам\n",
      "и ти ми продолжи во ноќта.\n",
      "\n",
      "Празнина со насмевка во мојата средба\n",
      "и столб одмината\n",
      "и пак да ги скриеш.\n",
      "Ти ме сакаше,?\n",
      "со твојот сјај негов\n",
      "и секоја вечер пееше\n",
      "со некоја друга.\n",
      "Имам сила да те повредам\n",
      "исчезнуваш и сега не се раѓам. \n",
      "Немам приказна.\n",
      "Но не плачи.\n",
      "Но немам последен пат,\n",
      "не знам како е само,\n",
      "ти, ти се, таа е твојот свет.\n",
      "Тебе во себе нема небо,\n",
      "сите сме имање, сонце да не продолжиме\n",
      "и не е плач,\n",
      "но сега сум јас со себе.\n",
      "\n",
      "На мисла ни солзи им ги виде,\n",
      "низ своите прсти во некако меѓу мене\n",
      "и солз\n"
     ]
    }
   ],
   "source": [
    "print(text)"
   ]
  },
  {
   "cell_type": "code",
   "execution_count": null,
   "metadata": {},
   "outputs": [],
   "source": []
  }
 ],
 "metadata": {
  "kernelspec": {
   "display_name": "Python 3",
   "language": "python",
   "name": "python3"
  },
  "language_info": {
   "codemirror_mode": {
    "name": "ipython",
    "version": 3
   },
   "file_extension": ".py",
   "mimetype": "text/x-python",
   "name": "python",
   "nbconvert_exporter": "python",
   "pygments_lexer": "ipython3",
   "version": "3.7.3"
  }
 },
 "nbformat": 4,
 "nbformat_minor": 2
}
